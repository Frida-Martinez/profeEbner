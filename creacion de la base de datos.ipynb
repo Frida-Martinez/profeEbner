{
 "cells": [
  {
   "cell_type": "code",
   "execution_count": 1,
   "id": "c0ca9d01-fe3c-4fd2-a5e0-2092f73a6f22",
   "metadata": {},
   "outputs": [],
   "source": [
    "import sqlite3"
   ]
  },
  {
   "cell_type": "code",
   "execution_count": 2,
   "id": "25a7c5eb-4197-4a0c-bf5a-6946b18749df",
   "metadata": {},
   "outputs": [],
   "source": [
    "conexion = sqlite3.connect(\"ejemplo.db\")"
   ]
  },
  {
   "cell_type": "code",
   "execution_count": 3,
   "id": "cb99572c-5ada-4cd9-9dc3-c007e8a23bec",
   "metadata": {},
   "outputs": [],
   "source": [
    "conexion = sqlite3.connect(\"ejemplo\")#Martinez Miranda Frida Rocio\n",
    "cursor = conexion.cursor()\n",
    "conexion.close()\n",
    "\n"
   ]
  },
  {
   "cell_type": "code",
   "execution_count": null,
   "id": "ff4be4ed-bd30-45d1-90e4-2b433a8cac98",
   "metadata": {},
   "outputs": [],
   "source": []
  },
  {
   "cell_type": "code",
   "execution_count": null,
   "id": "74392ad5",
   "metadata": {},
   "outputs": [],
   "source": []
  }
 ],
 "metadata": {
  "kernelspec": {
   "display_name": "Python 3 (ipykernel)",
   "language": "python",
   "name": "python3"
  },
  "language_info": {
   "codemirror_mode": {
    "name": "ipython",
    "version": 3
   },
   "file_extension": ".py",
   "mimetype": "text/x-python",
   "name": "python",
   "nbconvert_exporter": "python",
   "pygments_lexer": "ipython3",
   "version": "3.9.7"
  }
 },
 "nbformat": 4,
 "nbformat_minor": 5
}
