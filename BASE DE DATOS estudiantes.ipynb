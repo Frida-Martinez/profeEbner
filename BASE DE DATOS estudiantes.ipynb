{
 "cells": [
  {
   "cell_type": "code",
   "execution_count": 2,
   "id": "b8385c62",
   "metadata": {},
   "outputs": [],
   "source": [
    "import sqlite3\n",
    "conexion = sqlite3.connect(\"ejemplo.db\")\n",
    "cursor = conexion.cursor()\n",
    "conexion.close()"
   ]
  },
  {
   "cell_type": "code",
   "execution_count": 5,
   "id": "45adf168",
   "metadata": {},
   "outputs": [],
   "source": [
    "conexion = sqlite3.connect(\"ejemplo.db\")\n",
    "cursor = conexion.cursor()\n",
    "cursor.execute(\"CREATE TABLE estudiantes (email VARCHAR (100), carrera VARCHAR (100), nombre VARCHAR (100), edad INTEGER )\")\n",
    "conexion.close()"
   ]
  },
  {
   "cell_type": "code",
   "execution_count": 6,
   "id": "e44d9227",
   "metadata": {},
   "outputs": [],
   "source": [
    "conexion = sqlite3.connect(\"ejemplo.db\")\n",
    "cursor = conexion.cursor()\n",
    "cursor.execute(\"INSERT INTO estudiantes VALUES ('pandita@gmail.com','ingles', 'frida','22')\")\n",
    "conexion.commit()\n",
    "conexion.close()"
   ]
  },
  {
   "cell_type": "code",
   "execution_count": 7,
   "id": "9bcdb611",
   "metadata": {},
   "outputs": [
    {
     "name": "stdout",
     "output_type": "stream",
     "text": [
      "('pandita@gmail.com', 'ingles', 'frida', 22)\n"
     ]
    }
   ],
   "source": [
    "conexion = sqlite3.connect(\"ejemplo.db\")\n",
    "cursor= conexion.cursor()\n",
    "cursor.execute (\"SELECT * FROM estudiantes\")\n",
    "usuarios = cursor.fetchone()\n",
    "print (usuarios)"
   ]
  },
  {
   "cell_type": "code",
   "execution_count": 8,
   "id": "b50786c0",
   "metadata": {},
   "outputs": [],
   "source": [
    "conexion = sqlite3.connect(\"ejemplo.db\")\n",
    "cursor = conexion.cursor()\n",
    "usuarios = [\n",
    "    ('Rocio@gmail.com', 'Artes','Rocio', 27),\n",
    "    ('Bety@gmail.com','Gastronomia','Beatriz',25),\n",
    "('Aneliz@gmail.com', 'Matematicas','Ane', 20),\n",
    "    ('Luii@gmail.com','Español','Luii',23),\n",
    "('Arleth@gmail.com','Enfermeria','Istar',22)\n",
    "    \n",
    "    \n",
    "]\n",
    "\n",
    "cursor.executemany(\"INSERT INTO estudiantes VALUES (?,?,?,?)\", usuarios)\n",
    "conexion.commit()\n",
    "conexion.close()\n"
   ]
  },
  {
   "cell_type": "code",
   "execution_count": 12,
   "id": "ac1c926d",
   "metadata": {},
   "outputs": [
    {
     "name": "stdout",
     "output_type": "stream",
     "text": [
      "('pandita@gmail.com', 'ingles', 'frida', 22)\n",
      "('Rocio@gmail.com', 'Artes', 'Rocio', 27)\n",
      "('Bety@gmail.com', 'Gastronomia', 'Beatriz', 25)\n",
      "('Aneliz@gmail.com', 'Matematicas', 'Ane', 20)\n",
      "('Luii@gmail.com', 'Español', 'Luii', 23)\n",
      "('Arleth@gmail.com', 'Enfermeria', 'Istar', 22)\n"
     ]
    }
   ],
   "source": [
    "conexion = sqlite3.connect(\"ejemplo.db\")\n",
    "\n",
    "cursor = conexion.cursor()\n",
    "cursor.execute(\"SELECT * FROM estudiantes\")\n",
    "usuarios = cursor.fetchall()\n",
    "\n",
    "for u in usuarios:\n",
    "    print(u)\n",
    "    conexion.close()\n"
   ]
  },
  {
   "cell_type": "code",
   "execution_count": null,
   "id": "d5aa09bf",
   "metadata": {},
   "outputs": [],
   "source": []
  }
 ],
 "metadata": {
  "kernelspec": {
   "display_name": "Python 3 (ipykernel)",
   "language": "python",
   "name": "python3"
  },
  "language_info": {
   "codemirror_mode": {
    "name": "ipython",
    "version": 3
   },
   "file_extension": ".py",
   "mimetype": "text/x-python",
   "name": "python",
   "nbconvert_exporter": "python",
   "pygments_lexer": "ipython3",
   "version": "3.9.7"
  }
 },
 "nbformat": 4,
 "nbformat_minor": 5
}
