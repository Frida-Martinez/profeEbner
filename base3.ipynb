{
 "cells": [
  {
   "cell_type": "code",
   "execution_count": 2,
   "id": "bf01ee75",
   "metadata": {},
   "outputs": [
    {
     "name": "stdout",
     "output_type": "stream",
     "text": [
      "[('pandita@gmail.com', 'ingles', 'frida', 22), ('Rocio@gmail.com', 'Artes', 'Rocio', 27), ('Bety@gmail.com', 'Gastronomia', 'Beatriz', 25), ('Aneliz@gmail.com', 'Matematicas', 'Ane', 20), ('Luii@gmail.com', 'Español', 'Luii', 23), ('Arleth@gmail.com', 'Enfermeria', 'Istar', 22), ('paella@vip.com', 'Medicina', 'Giuliana', 27), ('crimewave@vip.com', 'Derecho', 'Alicia', 20), ('prince@orange.com', 'Ingenieria', 'William', 24), ('elrisortdewelini@vip.com', 'Nutrición', 'Chefsito', 25), ('planb@vip.com', 'Artes', 'Chencho', 30), ('channel@boyz.com', 'Letras', 'Frank', 32), ('vinos@aouju.com', 'Nutrición', 'Eugenia', 23)]\n"
     ]
    }
   ],
   "source": [
    "import sqlite3\n",
    "import csv\n",
    "conexion = sqlite3.connect(r\"C:\\Users\\Frida Mtz. Miranda\\ejemplo.db\")\n",
    "cursor = conexion.cursor()\n",
    "archivo = open (r\"C:\\Users\\Frida Mtz. Miranda\\DATOS_DB.txt\")\n",
    "\n",
    "filas = csv.reader(archivo)\n",
    "cursor.executemany(\"INSERT INTO estudiantes VALUES (?,?,?,?)\",filas)\n",
    "cursor.execute(\"SELECT * FROM estudiantes\")\n",
    "print (cursor.fetchall())\n",
    "conexion.commit()\n",
    "conexion.close()\n"
   ]
  },
  {
   "cell_type": "code",
   "execution_count": null,
   "id": "092b55de",
   "metadata": {},
   "outputs": [],
   "source": []
  }
 ],
 "metadata": {
  "kernelspec": {
   "display_name": "Python 3 (ipykernel)",
   "language": "python",
   "name": "python3"
  },
  "language_info": {
   "codemirror_mode": {
    "name": "ipython",
    "version": 3
   },
   "file_extension": ".py",
   "mimetype": "text/x-python",
   "name": "python",
   "nbconvert_exporter": "python",
   "pygments_lexer": "ipython3",
   "version": "3.9.7"
  }
 },
 "nbformat": 4,
 "nbformat_minor": 5
}
